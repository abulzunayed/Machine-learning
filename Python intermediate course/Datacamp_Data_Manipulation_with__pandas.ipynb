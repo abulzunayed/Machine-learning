{
  "nbformat": 4,
  "nbformat_minor": 0,
  "metadata": {
    "colab": {
      "provenance": [],
      "mount_file_id": "1WOwFZjff3o4JFMJfRNrZeFM2PRqC4OKV",
      "authorship_tag": "ABX9TyMp0Kb251yakpyiOGsJiK7J",
      "include_colab_link": true
    },
    "kernelspec": {
      "name": "python3",
      "display_name": "Python 3"
    },
    "language_info": {
      "name": "python"
    }
  },
  "cells": [
    {
      "cell_type": "markdown",
      "metadata": {
        "id": "view-in-github",
        "colab_type": "text"
      },
      "source": [
        "<a href=\"https://colab.research.google.com/github/abulzunayed/Datacamp-online-course/blob/main/Datacamp_Data_Manipulation_with__pandas.ipynb\" target=\"_parent\"><img src=\"https://colab.research.google.com/assets/colab-badge.svg\" alt=\"Open In Colab\"/></a>"
      ]
    },
    {
      "cell_type": "markdown",
      "source": [
        "# **DataFrames**"
      ],
      "metadata": {
        "id": "5aKkxQrFq9Yq"
      }
    },
    {
      "cell_type": "markdown",
      "source": [
        "**Introducing DataFrames**\n",
        "\n",
        "Inspecting a DataFrame\n",
        "\n",
        ".head() returns the first few rows (the “head” of the DataFrame).\n",
        "\n",
        ".info() shows information on each of the columns, such as the data type and number of missing values.\n",
        "\n",
        ".shape returns the number of rows and columns of the DataFrame.\n",
        "\n",
        ".describe() calculates a few summary statistics for each column."
      ],
      "metadata": {
        "id": "itGIoc9wrYtE"
      }
    },
    {
      "cell_type": "code",
      "source": [
        "# Print the head of the homelessness data\n",
        "print(homelessness.head())\n",
        "\n",
        "# Print information about homelessness\n",
        "print(homelessness.info())\n",
        "\n",
        "# Print the shape of homelessness\n",
        "print(homelessness.shape)\n",
        "\n",
        "# Print a description of homelessness\n",
        "print(homelessness.describe())"
      ],
      "metadata": {
        "id": "zuJ7fEq4sOcG"
      },
      "execution_count": null,
      "outputs": []
    },
    {
      "cell_type": "markdown",
      "source": [
        "# Parts of a DataFrame"
      ],
      "metadata": {
        "id": "eYSgsy2zsUKB"
      }
    },
    {
      "cell_type": "markdown",
      "source": [
        ".values: A two-dimensional NumPy array of values.\n",
        "\n",
        ".columns: An index of columns: the column names.\n",
        "\n",
        ".index: An index for the rows: either row numbers or row names."
      ],
      "metadata": {
        "id": "hDJchAu0sfT2"
      }
    },
    {
      "cell_type": "code",
      "source": [
        "# Import pandas using the alias pd\n",
        "import pandas as pd\n",
        "\n",
        "# Print a 2D NumPy array of the values in homelessness.\n",
        "print(homelessness.values)\n",
        "\n",
        "# Print the column names of homelessness\n",
        "print(homelessness.columns)\n",
        "\n",
        "# Print the row index of homelessness\n",
        "print(homelessness.index)"
      ],
      "metadata": {
        "id": "PvjMSktxslQ3"
      },
      "execution_count": null,
      "outputs": []
    },
    {
      "cell_type": "markdown",
      "source": [
        "# Sorting and subsetting"
      ],
      "metadata": {
        "id": "6JCg_wRNssWI"
      }
    },
    {
      "cell_type": "markdown",
      "source": [
        "**Sorting rows**"
      ],
      "metadata": {
        "id": "b_xGbnbBsxSx"
      }
    },
    {
      "cell_type": "code",
      "source": [
        "# Sort homelessness by individual\n",
        "homelessness_ind = homelessness.sort_values('individuals')\n",
        "\n",
        "# Sort homelessness by descending family members\n",
        "homelessness_fam = homelessness.sort_values('family_members',ascending=False)\n",
        "\n",
        "# Sort homelessness by region, then descending family members\n",
        "homelessness_reg_fam = homelessness.sort_values(['region','family_members'], ascending = [True, False])"
      ],
      "metadata": {
        "id": "6q4r1d1Rs3Rr"
      },
      "execution_count": null,
      "outputs": []
    },
    {
      "cell_type": "markdown",
      "source": [
        "**Subsetting columns**"
      ],
      "metadata": {
        "id": "QZjDbzyos5py"
      }
    },
    {
      "cell_type": "code",
      "source": [
        "# Select the individuals column\n",
        "individuals = homelessness['individuals']\n",
        "\n",
        "# Select the state and family_members columns\n",
        "state_fam = homelessness[['state','family_members']]\n",
        "\n",
        "# Select only the individuals and state columns, in that order\n",
        "ind_state = homelessness[['individuals','state']]"
      ],
      "metadata": {
        "id": "xl0yXYMys9Oz"
      },
      "execution_count": null,
      "outputs": []
    },
    {
      "cell_type": "markdown",
      "source": [
        "**Subsetting rows by categorical variables**"
      ],
      "metadata": {
        "id": "pDcKPYB_tBrh"
      }
    },
    {
      "cell_type": "code",
      "source": [
        "# Subset for rows in South Atlantic or Mid-Atlantic regions\n",
        "south_mid_atlantic = homelessness[(homelessness['region']==\"South Atlantic\") | (homelessness['region']==\"Mid-Atlantic\")]\n",
        "\n",
        "# The Mojave Desert states\n",
        "canu = [\"California\", \"Arizona\", \"Nevada\", \"Utah\"]\n",
        "\n",
        "# Filter for rows in the Mojave Desert states\n",
        "mojave_homelessness = homelessness[homelessness['state'].isin(canu)]"
      ],
      "metadata": {
        "id": "kq9GvsnotJR7"
      },
      "execution_count": null,
      "outputs": []
    },
    {
      "cell_type": "markdown",
      "source": [
        "**New columns**"
      ],
      "metadata": {
        "id": "zTnVD1-LtL5E"
      }
    },
    {
      "cell_type": "code",
      "source": [
        "# Add total col as sum of individuals and family_members\n",
        "homelessness['total'] = homelessness['individuals'] + homelessness['family_members']\n",
        "\n",
        "# Add p_individuals col as proportion of individuals\n",
        "homelessness['p_individuals'] = homelessness['individuals'] / homelessness['total']\n",
        "\n",
        "# See the result\n",
        "print(homelessness)"
      ],
      "metadata": {
        "id": "_fNTS4M3tPvL"
      },
      "execution_count": null,
      "outputs": []
    },
    {
      "cell_type": "markdown",
      "source": [
        "**Combo-attack!**"
      ],
      "metadata": {
        "id": "t6iMQx0Itee0"
      }
    },
    {
      "cell_type": "code",
      "source": [
        "# Create indiv_per_10k col as homeless individuals per 10k state pop\n",
        "homelessness[\"indiv_per_10k\"] = 10000 * homelessness[\"individuals\"] / homelessness[\"state_pop\"]\n",
        "\n",
        "# Subset rows for indiv_per_10k greater than 20\n",
        "high_homelessness = homelessness[homelessness['indiv_per_10k']>20]\n",
        "\n",
        "# Sort high_homelessness by descending indiv_per_10k\n",
        "high_homelessness_srt = high_homelessness.sort_values('indiv_per_10k', ascending=False)\n",
        "\n",
        "# From high_homelessness_srt, select the state and indiv_per_10k cols\n",
        "result = high_homelessness_srt[['state','indiv_per_10k']]\n",
        "\n",
        "# See the result\n",
        "print(result)"
      ],
      "metadata": {
        "id": "zJyb6kpDtjdH"
      },
      "execution_count": null,
      "outputs": []
    },
    {
      "cell_type": "markdown",
      "source": [
        "# Aggregating Data"
      ],
      "metadata": {
        "id": "FPzPeD_8tnC-"
      }
    },
    {
      "cell_type": "markdown",
      "source": [
        "**Mean and median**"
      ],
      "metadata": {
        "id": "KEU7WrC4tsWW"
      }
    },
    {
      "cell_type": "code",
      "source": [
        "# Print the head of the sales DataFrame\n",
        "print(sales.head())\n",
        "\n",
        "# Print the info about the sales DataFrame\n",
        "print(sales.info())\n",
        "\n",
        "# Print the mean of weekly_sales\n",
        "print(sales['weekly_sales'].mean())\n",
        "\n",
        "# Print the median of weekly_sales\n",
        "print(sales['weekly_sales'].median())"
      ],
      "metadata": {
        "id": "wzmQ9hsntuTB"
      },
      "execution_count": null,
      "outputs": []
    },
    {
      "cell_type": "markdown",
      "source": [
        "**Summarizing dates**"
      ],
      "metadata": {
        "id": "8fGt0zpstymu"
      }
    },
    {
      "cell_type": "code",
      "source": [
        "# Print the maximum of the date column\n",
        "print(sales['date'].max())\n",
        "> 2012-10-26 00:00:00\n",
        "\n",
        "# Print the minimum of the date column\n",
        "print(sales['date'].min())\n",
        "> 2010-02-05 00:00:00"
      ],
      "metadata": {
        "id": "KOGJJI8Wt1F4"
      },
      "execution_count": null,
      "outputs": []
    },
    {
      "cell_type": "markdown",
      "source": [
        "Efficient summaries\n",
        "\n",
        "The .agg() method allows you to apply your own custom functions to a DataFrame, as well as apply functions to more than one column of a DataFrame at once, making your aggregations super efficient."
      ],
      "metadata": {
        "id": "2piZt3qDt6Ao"
      }
    },
    {
      "cell_type": "code",
      "source": [
        "# A custom IQR function\n",
        "def iqr(column):\n",
        "    return column.quantile(0.75) - column.quantile(0.25)\n",
        "    \n",
        "# Print IQR of the temperature_c column\n",
        "print(sales['temperature_c'].agg(iqr)\n",
        "\n",
        "# Update to print IQR of temperature_c, fuel_price_usd_per_l, & unemployment\n",
        "print(sales[[\"temperature_c\", 'fuel_price_usd_per_l', 'unemployment']].agg(iqr))\n",
        "> temperature_c           16.583\n",
        "  fuel_price_usd_per_l     0.073\n",
        "  unemployment             0.565\n",
        "  dtype: float64\n",
        "\n",
        "# Update to print IQR and median of temperature_c, fuel_price_usd_per_l, & unemployment\n",
        "print(sales[[\"temperature_c\", \"fuel_price_usd_per_l\", \"unemployment\"]].agg([iqr, np.median]))\n",
        ">         temperature_c  fuel_price_usd_per_l  unemployment\n",
        "iqr            16.583                 0.073         0.565\n",
        "median         16.967                 0.743         8.099"
      ],
      "metadata": {
        "id": "BV2Gr_yWt9HV"
      },
      "execution_count": null,
      "outputs": []
    },
    {
      "cell_type": "markdown",
      "source": [
        "**Cumulative statistics**\n",
        "\n",
        ".cummax(),.cummin(), .cumprod()"
      ],
      "metadata": {
        "id": "gFcvxQLIuDGy"
      }
    },
    {
      "cell_type": "code",
      "source": [
        "# Sort sales_1_1 by date\n",
        "sales_1_1 = sales_1_1.sort_values('date', ascending=True)\n",
        "\n",
        "# Get the cumulative sum of weekly_sales, add as cum_weekly_sales col\n",
        "sales_1_1['cum_weekly_sales'] = sales_1_1['weekly_sales'].cumsum()\n",
        "\n",
        "# Get the cumulative max of weekly_sales, add as cum_max_sales col\n",
        "sales_1_1['cum_max_sales'] = sales_1_1['weekly_sales'].cummax()\n",
        "\n",
        "# See the columns you calculated\n",
        "print(sales_1_1[[\"date\", \"weekly_sales\", \"cum_weekly_sales\", \"cum_max_sales\"]])"
      ],
      "metadata": {
        "id": "A-UGoSdsuGbT"
      },
      "execution_count": null,
      "outputs": []
    },
    {
      "cell_type": "markdown",
      "source": [
        "**Counting**\n",
        "\n",
        "Dropping duplicates"
      ],
      "metadata": {
        "id": "DSr2vm1nuHsC"
      }
    },
    {
      "cell_type": "code",
      "source": [
        "# Drop duplicate store/type combinations\n",
        "store_types = sales.drop_duplicates(subset=['store','type'])\n",
        "print(store_types.head())\n",
        "\n",
        "# Drop duplicate store/department combinations\n",
        "store_depts = sales.drop_duplicates(subset=['store','department'])\n",
        "print(store_depts.head())\n",
        "\n",
        "# Subset the rows that are holiday weeks and drop duplicate dates\n",
        "holiday_dates = sales[sales['is_holiday']==True].drop_duplicates('date')\n",
        "\n",
        "# Print date col of holiday_dates\n",
        "print(holiday_dates['date'])"
      ],
      "metadata": {
        "id": "EZq7z9IouMcY"
      },
      "execution_count": null,
      "outputs": []
    },
    {
      "cell_type": "markdown",
      "source": [
        "Counting categorical variables"
      ],
      "metadata": {
        "id": "2F2WK-DOuRLo"
      }
    },
    {
      "cell_type": "code",
      "source": [
        "# Count the number of stores of each type\n",
        "store_counts = store_types['type'].value_counts()\n",
        "print(store_counts)\n",
        "\n",
        "# Get the proportion of stores of each type\n",
        "store_props = store_types['type'].value_counts(normalize=True)\n",
        "print(store_props)\n",
        "\n",
        "# Count the number of each department number and sort\n",
        "dept_counts_sorted = store_depts['department'].value_counts(sort=True)\n",
        "print(dept_counts_sorted)\n",
        "\n",
        "# Get the proportion of departments of each number and sort\n",
        "dept_props_sorted = store_depts['department'].value_counts(sort=True, normalize=True)\n",
        "print(dept_props_sorted)"
      ],
      "metadata": {
        "id": "mSB2HIfouS6s"
      },
      "execution_count": null,
      "outputs": []
    },
    {
      "cell_type": "markdown",
      "source": [
        "# Grouped summary statistics\n",
        "\n",
        "**.groupby()**\n",
        "\n",
        "\n",
        "What percent of sales occurred at each store type?"
      ],
      "metadata": {
        "id": "wWKC9NXnuXtf"
      }
    },
    {
      "cell_type": "code",
      "source": [
        "# Calc total weekly sales\n",
        "sales_all = sales[\"weekly_sales\"].sum()\n",
        "\n",
        "# Subset for type A stores, calc total weekly sales\n",
        "sales_A = sales[sales[\"type\"] == \"A\"][\"weekly_sales\"].sum()\n",
        "\n",
        "# Subset for type B stores, calc total weekly sales\n",
        "sales_B = sales[sales[\"type\"] == \"B\"][\"weekly_sales\"].sum()\n",
        "\n",
        "# Subset for type C stores, calc total weekly sales\n",
        "sales_C = sales[sales[\"type\"] == \"C\"][\"weekly_sales\"].sum()\n",
        "\n",
        "# Get proportion for each type\n",
        "sales_propn_by_type = [sales_A, sales_B, sales_C] / (sales_A+sales_B+sales_C)\n",
        "print(sales_propn_by_type)\n",
        "> [0.9097747 0.0902253 0.       ]"
      ],
      "metadata": {
        "id": "_Un4mswxueKU"
      },
      "execution_count": null,
      "outputs": []
    },
    {
      "cell_type": "markdown",
      "source": [
        "Calculations with .groupby()"
      ],
      "metadata": {
        "id": "TnCeAjsIugzV"
      }
    },
    {
      "cell_type": "code",
      "source": [
        "# Group by type; calc total weekly sales\n",
        "sales_by_type = sales.groupby(\"type\")[\"weekly_sales\"].sum()\n",
        "\n",
        "# Get proportion for each type\n",
        "sales_propn_by_type = sales_by_type/sum(sales.weekly_sales) \n",
        "print(sales_propn_by_type)\n",
        "> type\n",
        "  A    0.91\n",
        "  B    0.09\n",
        "  Name: weekly_sales, dtype: float64\n",
        "\n",
        "# Group by type and is_holiday; calc total weekly sales\n",
        "sales_by_type_is_holiday = sales.groupby([\"type\",'is_holiday'])[\"weekly_sales\"].sum()\n",
        "print(sales_by_type_is_holiday)\n",
        "> type  is_holiday\n",
        "  A     False         2.337e+08\n",
        "        True          2.360e+04\n",
        "  B     False         2.318e+07\n",
        "        True          1.621e+03\n",
        "  Name: weekly_sales, dtype: float64"
      ],
      "metadata": {
        "id": "_hh1TSm-umNI"
      },
      "execution_count": null,
      "outputs": []
    },
    {
      "cell_type": "markdown",
      "source": [
        "**Multiple grouped summaries**"
      ],
      "metadata": {
        "id": "JVl1Gf2muqnG"
      }
    },
    {
      "cell_type": "code",
      "source": [
        "# Import NumPy with the alias np\n",
        "import numpy as np\n",
        "\n",
        "# For each store type, aggregate weekly_sales: get min, max, mean, and median\n",
        "sales_stats = sales.groupby('type')['weekly_sales'].agg([np.min, np.max, np.mean, np.median])\n",
        "\n",
        "# Print sales_stats\n",
        "print(sales_stats)\n",
        "\n",
        "# For each store type, aggregate unemployment and fuel_price_usd_per_l: get min, max, mean, and median\n",
        "unemp_fuel_stats = sales.groupby('type')[['unemployment', 'fuel_price_usd_per_l']].agg([np.min, np.max, np.mean, np.median])\n",
        "\n",
        "# Print unemp_fuel_stats\n",
        "print(unemp_fuel_stats)"
      ],
      "metadata": {
        "id": "4_3DRW8SuuPi"
      },
      "execution_count": null,
      "outputs": []
    },
    {
      "cell_type": "markdown",
      "source": [
        "#Pivot tables\n",
        "\n",
        "**The .pivot_table() method is just an alternative to .groupby().**\n",
        "\n",
        "\n",
        "Pivoting on one variable"
      ],
      "metadata": {
        "id": "zsMPqGe5uyI0"
      }
    },
    {
      "cell_type": "code",
      "source": [
        "\n",
        "# Pivot for mean weekly_sales for each store type\n",
        "mean_sales_by_type = sales.pivot_table(values='weekly_sales', index='type')\n",
        "\n",
        "# Print mean_sales_by_type\n",
        "print(mean_sales_by_type)\n",
        ">       weekly_sales\n",
        "  type              \n",
        "  A        23674.667\n",
        "  B        25696.678\n",
        "\n",
        "# Pivot for mean and median weekly_sales for each store type\n",
        "mean_med_sales_by_type = sales.pivot_table(values='weekly_sales', index= 'type', aggfunc=[np.mean, np.median])\n",
        "\n",
        "# Print mean_med_sales_by_type\n",
        "print(mean_med_sales_by_type)\n",
        ">              mean       median\n",
        "       weekly_sales weekly_sales\n",
        "  type                          \n",
        "  A       23674.667     11943.92\n",
        "  B       25696.678     13336.08\n",
        "\n",
        "# Pivot for mean weekly_sales by store type and holiday \n",
        "mean_sales_by_type_holiday = sales.pivot_table(values='weekly_sales', index= 'type', columns='is_holiday')\n",
        "\n",
        "# Print mean_sales_by_type_holiday\n",
        "print(mean_sales_by_type_holiday)\n",
        "> is_holiday      False    True \n",
        "  type                          \n",
        "  A           23768.584  590.045\n",
        "  B           25751.981  810.705"
      ],
      "metadata": {
        "id": "zAHNg-zVu7na"
      },
      "execution_count": null,
      "outputs": []
    },
    {
      "cell_type": "markdown",
      "source": [
        "**Fill in missing values and sum values with pivot tables**\n",
        "\n",
        "The .pivot_table() method has several useful arguments, including fill_value and margins.\n",
        "\n",
        "fill_value replaces missing values with a real value (known as imputation).\n",
        "\n",
        "margins is a shortcut for when you pivoted by two variables, but also wanted to pivot by each of those variables separately: it gives the row and column totals of the pivot table contents."
      ],
      "metadata": {
        "id": "xA5ymsn5vBYU"
      }
    },
    {
      "cell_type": "code",
      "source": [
        "# Print mean weekly_sales by department and type; fill missing values with 0\n",
        "print(sales.pivot_table(values='weekly_sales', index='department', columns='type', fill_value=0))\n",
        "\n",
        "# Print the mean weekly_sales by department and type; fill missing values with 0s; sum all rows and cols\n",
        "print(sales.pivot_table(values=\"weekly_sales\", index=\"department\", columns=\"type\", fill_value=0, margins=True))"
      ],
      "metadata": {
        "id": "Y0pFM2zvvLNG"
      },
      "execution_count": null,
      "outputs": []
    },
    {
      "cell_type": "markdown",
      "source": [
        "# Slicing and indexing"
      ],
      "metadata": {
        "id": "mZFPIJq2vQHP"
      }
    },
    {
      "cell_type": "markdown",
      "source": [
        ".set_index(), reset_index()\n",
        "\n",
        "**Explicit indexes**\n",
        "\n",
        "Setting & removing indexes"
      ],
      "metadata": {
        "id": "rmFP10TzvUUt"
      }
    },
    {
      "cell_type": "code",
      "source": [
        "# Look at temperatures\n",
        "print(temperatures)\n",
        "\n",
        "# Index temperatures by city\n",
        "temperatures_ind = temperatures.set_index('city')\n",
        "\n",
        "# Look at temperatures_ind\n",
        "print(temperatures_ind)\n",
        "\n",
        "# Reset the index, keeping its contents\n",
        "print(temperatures_ind.reset_index())\n",
        "\n",
        "# Reset the index, dropping its contents\n",
        "print(temperatures_ind.reset_index(drop=True))"
      ],
      "metadata": {
        "id": "bVFaapz1vb6R"
      },
      "execution_count": null,
      "outputs": []
    },
    {
      "cell_type": "markdown",
      "source": [
        "**Slicing and subsetting with .loc and .iloc**"
      ],
      "metadata": {
        "id": "9p0XXZGzvfFm"
      }
    },
    {
      "cell_type": "code",
      "source": [
        "# Make a list of cities to subset on\n",
        "cities = ['Moscow', 'Saint Petersburg']\n",
        "\n",
        "# Subset temperatures using square brackets\n",
        "print(temperatures[temperatures['city'].isin(cities)])\n",
        "\n",
        "# Subset temperatures_ind using .loc[]\n",
        "print(temperatures_ind.loc[cities])"
      ],
      "metadata": {
        "id": "p4YFw5vmvh87"
      },
      "execution_count": null,
      "outputs": []
    },
    {
      "cell_type": "markdown",
      "source": [
        "Setting multi-level indexes"
      ],
      "metadata": {
        "id": "3JFHmLJVvjie"
      }
    },
    {
      "cell_type": "code",
      "source": [
        "# Index temperatures by country & city\n",
        "temperatures_ind = temperatures.set_index([\"country\",\"city\"])\n",
        "\n",
        "# List of tuples: Brazil, Rio De Janeiro & Pakistan, Lahore\n",
        "rows_to_keep = [(\"Brazil\", \"Rio De Janeiro\"),(\"Pakistan\",\"Lahore\")]\n",
        "\n",
        "# Subset for rows to keep\n",
        "print(temperatures_ind.loc[rows_to_keep])"
      ],
      "metadata": {
        "id": "Rt4K2kvDvlxI"
      },
      "execution_count": null,
      "outputs": []
    },
    {
      "cell_type": "markdown",
      "source": [
        "**Sorting by index values**"
      ],
      "metadata": {
        "id": "J6BlGo-TvpEj"
      }
    },
    {
      "cell_type": "code",
      "source": [
        "# Sort temperatures_ind by index values\n",
        "print(temperatures_ind.sort_index())\n",
        "\n",
        "# Sort temperatures_ind by index values at the city level\n",
        "print(temperatures_ind.sort_index(level='city'))\n",
        "\n",
        "# Sort temperatures_ind by country then descending city\n",
        "print(temperatures_ind.sort_index(level=['country','city'], ascending=[True, False]))"
      ],
      "metadata": {
        "id": "tsqUb79QvrSy"
      },
      "execution_count": null,
      "outputs": []
    },
    {
      "cell_type": "markdown",
      "source": [
        "# Slicing and subsetting with .loc and .iloc\n",
        "\n",
        "**Slicing index values**\n",
        "\n",
        "Compared to slicing lists, there are a few things to remember.\n",
        "\n",
        "You can only slice an index if the index is sorted (using .sort_index()).\n",
        "\n",
        "To slice at the outer level, first and last can be strings.\n",
        "\n",
        "To slice at inner levels, first and last should be tuples.\n",
        "\n",
        "If you pass a single slice to .loc[], it will slice the rows."
      ],
      "metadata": {
        "id": "VhMYmc06vuRk"
      }
    },
    {
      "cell_type": "code",
      "source": [
        "# Sort the index of temperatures_ind\n",
        "temperatures_srt = temperatures_ind.sort_index()\n",
        "\n",
        "# Subset rows from Pakistan to Russia\n",
        "print(temperatures_srt.loc['Pakistan':'Russia'])\n",
        "\n",
        "# Try to subset rows from Lahore to Moscow (This will return nonsense.)\n",
        "print(temperatures_srt.loc['Lahore':'Moscow'])\n",
        "\n",
        "# Subset rows from Pakistan, Lahore to Russia, Moscow\n",
        "print(temperatures_srt.loc[('Pakistan','Lahore'):('Russia', 'Moscow')])"
      ],
      "metadata": {
        "id": "8wU2bPgdv0y3"
      },
      "execution_count": null,
      "outputs": []
    },
    {
      "cell_type": "markdown",
      "source": [
        "**Slicing in both directions**"
      ],
      "metadata": {
        "id": "vMx0EZAFv3Hm"
      }
    },
    {
      "cell_type": "code",
      "source": [
        "# Subset rows from India, Hyderabad to Iraq, Baghdad\n",
        "print(temperatures_srt.loc[('India', 'Hyderabad'):('Iraq', 'Baghdad')])\n",
        "\n",
        "# Subset columns from date to avg_temp_c\n",
        "print(temperatures_srt.loc[:, 'date':'avg_temp_c'])\n",
        "\n",
        "# Subset in both directions at once\n",
        "# Subset columns from date to avg_temp_c\n",
        "print(temperatures_srt.loc[('India', 'Hyderabad'):('Iraq', 'Baghdad'), 'date':'avg_temp_c'])"
      ],
      "metadata": {
        "id": "yYQUzWZav6EB"
      },
      "execution_count": null,
      "outputs": []
    },
    {
      "cell_type": "markdown",
      "source": [
        "**Slicing time series**\n",
        "\n",
        "Add the date column to the index, then use .loc[] to perform the subsetting. The important thing to remember is to keep your dates in ISO 8601 format, that is, yyyy-mm-dd."
      ],
      "metadata": {
        "id": "cr60xgdcv8ww"
      }
    },
    {
      "cell_type": "code",
      "source": [
        "# Use Boolean conditions to subset temperatures for rows in 2010 and 2011\n",
        "temperatures_bool = temperatures[(temperatures[\"date\"] >= '2010-01-01') & (temperatures[\"date\"] <= '2011-12-31')]\n",
        "print(temperatures_bool)\n",
        "\n",
        "# Set date as an index\n",
        "temperatures_ind = temperatures.set_index('date')\n",
        "\n",
        "# Use .loc[] to subset temperatures_ind for rows in 2010 and 2011\n",
        "print(temperatures_ind.loc['2010':'2011'])\n",
        "\n",
        "# Use .loc[] to subset temperatures_ind for rows from Aug 2010 to Feb 2011\n",
        "print(temperatures_ind.loc['2010-08':'2011-2'])"
      ],
      "metadata": {
        "id": "B9yEja64wAw2"
      },
      "execution_count": null,
      "outputs": []
    },
    {
      "cell_type": "markdown",
      "source": [
        "**Subsetting by row/column number**\n",
        "\n",
        "This is done using .iloc[], and like .loc[], it can take two arguments to let you subset by rows and columns."
      ],
      "metadata": {
        "id": "POlxLOJuwD6Y"
      }
    },
    {
      "cell_type": "code",
      "source": [
        "# Get 23rd row, 2nd column (index 22, 1)\n",
        "print(temperatures.iloc[22,2])\n",
        "\n",
        "# Use slicing to get the first 5 rows\n",
        "print(temperatures.iloc[0:5,:])\n",
        "\n",
        "# Use slicing to get columns 3 to 4\n",
        "print(temperatures.iloc[:,2:4])\n",
        "\n",
        "# Use slicing in both directions at once\n",
        "print(temperatures.iloc[0:5,2:4])"
      ],
      "metadata": {
        "id": "X3PgdNWkwG_Z"
      },
      "execution_count": null,
      "outputs": []
    },
    {
      "cell_type": "markdown",
      "source": [
        "# Working with pivot tables\n",
        "\n",
        "**Pivot temperature by city and year**\n",
        "\n",
        "You can access the components of a date (year, month and day) using code of the form dataframe[\"column\"].dt.component. For example, the month component is dataframe[\"column\"].dt.month, and the year component is dataframe[\"column\"].dt.year."
      ],
      "metadata": {
        "id": "j1efD4c9wKD6"
      }
    },
    {
      "cell_type": "code",
      "source": [
        "# Add a year column to temperatures\n",
        "temperatures['year'] = temperatures['date'].dt.year\n",
        "\n",
        "# Pivot avg_temp_c by country and city vs year\n",
        "temp_by_country_city_vs_year = temperatures.pivot_table('avg_temp_c', index=['country','city'], columns='year')\n",
        "\n",
        "# See the result\n",
        "print(temp_by_country_city_vs_year)"
      ],
      "metadata": {
        "id": "zhaX32-MwPOe"
      },
      "execution_count": null,
      "outputs": []
    },
    {
      "cell_type": "markdown",
      "source": [
        "**Subsetting pivot tables**\n",
        "\n",
        "A pivot table is just a DataFrame with sorted indexes. the .loc[] + slicing combination is often helpful."
      ],
      "metadata": {
        "id": "z_evI2Z4wTDC"
      }
    },
    {
      "cell_type": "code",
      "source": [
        "# Subset for Egypt to India\n",
        "temp_by_country_city_vs_year.loc['Egypt':'India']\n",
        "\n",
        "# Subset for Egypt, Cairo to India, Delhi\n",
        "temp_by_country_city_vs_year.loc[('Egypt','Cairo'):('India','Delhi')]\n",
        "\n",
        "# Subset in both directions at once\n",
        "temp_by_country_city_vs_year.loc[('Egypt','Cairo'):('India','Delhi'),'2005':'2010']"
      ],
      "metadata": {
        "id": "qLOXjKBiwWUk"
      },
      "execution_count": null,
      "outputs": []
    },
    {
      "cell_type": "markdown",
      "source": [
        "**Calculating on a pivot table**"
      ],
      "metadata": {
        "id": "f6O0a0ZqwY5T"
      }
    },
    {
      "cell_type": "code",
      "source": [
        "# Get the worldwide mean temp by year\n",
        "mean_temp_by_year = temp_by_country_city_vs_year.mean()\n",
        "\n",
        "# Filter for the year that had the highest mean temp\n",
        "print(mean_temp_by_year[mean_temp_by_year==mean_temp_by_year.max()])\n",
        "> year\n",
        "  2013    20.312\n",
        "  dtype: float64\n",
        "\n",
        "# Get the mean temp by city\n",
        "mean_temp_by_city = temp_by_country_city_vs_year.mean(axis=\"columns\")\n",
        "\n",
        "# Filter for the city that had the lowest mean temp\n",
        "print(mean_temp_by_city[mean_temp_by_city==mean_temp_by_city.min()])\n",
        "> country  city  \n",
        "  China    Harbin    4.877\n",
        "  dtype: float64"
      ],
      "metadata": {
        "id": "aAr4HlWrwbF1"
      },
      "execution_count": null,
      "outputs": []
    },
    {
      "cell_type": "markdown",
      "source": [
        "# Creating and Visualizing DataFrames\n",
        "\n",
        "**Visualizing your data**\n",
        "\n",
        "Which avocado size is most popular?"
      ],
      "metadata": {
        "id": "8442yJNowdxS"
      }
    },
    {
      "cell_type": "code",
      "source": [
        "# Import matplotlib.pyplot with alias plt\n",
        "import matplotlib.pyplot as plt\n",
        "\n",
        "# Look at the first few rows of data\n",
        "print(avocados.head())\n",
        ">          date          type  year  avg_price   size    nb_sold\n",
        "    0  2015-12-27  conventional  2015       0.95  small  9.627e+06\n",
        "    1  2015-12-20  conventional  2015       0.98  small  8.710e+06\n",
        "    2  2015-12-13  conventional  2015       0.93  small  9.855e+06\n",
        "    3  2015-12-06  conventional  2015       0.89  small  9.405e+06\n",
        "    4  2015-11-29  conventional  2015       0.99  small  8.095e+06\n",
        "    \n",
        "# Get the total number of avocados sold of each size\n",
        "nb_sold_by_size = avocados.groupby('size')['nb_sold'].sum()\n",
        "\n",
        "# Create a bar plot of the number of avocados sold by size\n",
        "nb_sold_by_size.plot(kind='bar')\n",
        "\n",
        "# Show the plot\n",
        "plt.show()"
      ],
      "metadata": {
        "id": "sRBlAjzgwjR9"
      },
      "execution_count": null,
      "outputs": []
    },
    {
      "cell_type": "markdown",
      "source": [
        "**Changes in sales over time**"
      ],
      "metadata": {
        "id": "0--7pCHiwmQW"
      }
    },
    {
      "cell_type": "code",
      "source": [
        "# Import matplotlib.pyplot with alias plt\n",
        "import matplotlib.pyplot as plt\n",
        "\n",
        "# Get the total number of avocados sold on each date\n",
        "nb_sold_by_date = avocados.groupby('date')['nb_sold'].sum()\n",
        "\n",
        "# Create a line plot of the number of avocados sold by date\n",
        "nb_sold_by_date.plot(kind='line')\n",
        "\n",
        "# Show the plot\n",
        "plt.show()"
      ],
      "metadata": {
        "id": "zOTizY0qwo0U"
      },
      "execution_count": null,
      "outputs": []
    },
    {
      "cell_type": "markdown",
      "source": [
        "**Avocado supply and demand**"
      ],
      "metadata": {
        "id": "vOXKHhmVwtru"
      }
    },
    {
      "cell_type": "code",
      "source": [
        "# Scatter plot of nb_sold vs avg_price with title\n",
        "avocados.plot(x='nb_sold', y='avg_price', kind='scatter',title=\"Number of avocados sold vs. average price\")\n",
        "\n",
        "# Show the plot\n",
        "plt.show()"
      ],
      "metadata": {
        "id": "XAPIE3D6wv_E"
      },
      "execution_count": null,
      "outputs": []
    },
    {
      "cell_type": "markdown",
      "source": [
        "**Price of conventional vs. organic avocados**"
      ],
      "metadata": {
        "id": "M8Mg-pIGw0Lw"
      }
    },
    {
      "cell_type": "code",
      "source": [
        "# # Histogram of conventional avg_price \n",
        "avocados[avocados[\"type\"] == \"conventional\"][\"avg_price\"].hist(bins=20, alpha=0.5)\n",
        "\n",
        "# Histogram of organic avg_price\n",
        "avocados[avocados[\"type\"] == \"organic\"][\"avg_price\"].hist(bins=20, alpha=0.5)\n",
        "\n",
        "# Add a legend\n",
        "plt.legend([\"conventional\", \"organic\"])\n",
        "\n",
        "# Show the plot\n",
        "plt.show()"
      ],
      "metadata": {
        "id": "hIIlXBNmw2YT"
      },
      "execution_count": null,
      "outputs": []
    },
    {
      "cell_type": "markdown",
      "source": [
        "# Missing values\n",
        "\n",
        "**Finding missing values**\n",
        "\n",
        ".isna(), .any()"
      ],
      "metadata": {
        "id": "wxvNaXfbw43K"
      }
    },
    {
      "cell_type": "code",
      "source": [
        "# Import matplotlib.pyplot with alias plt\n",
        "import matplotlib.pyplot as plt\n",
        "\n",
        "# Print a DataFrame that shows whether each value in avocados_2016 is missing or not.\n",
        "print(avocados_2016.isna())\n",
        "\n",
        "# Print a summary that shows whether any value in each column is missing or not.\n",
        "print(avocados_2016.isna().any())\n",
        "\n",
        "# Bar plot of missing values by variable\n",
        "avocados_2016.isna().sum().plot(kind='bar')\n",
        "\n",
        "# Show plot\n",
        "plt.show()"
      ],
      "metadata": {
        "id": "SHNtdsbfw8j2"
      },
      "execution_count": null,
      "outputs": []
    },
    {
      "cell_type": "markdown",
      "source": [
        "**Removing missing values**\n",
        "\n",
        ".dropna()"
      ],
      "metadata": {
        "id": "Upywv3mJw-99"
      }
    },
    {
      "cell_type": "code",
      "source": [
        "# Remove rows with missing values\n",
        "avocados_complete = avocados_2016.dropna()\n",
        "\n",
        "# Check if any columns contain missing values\n",
        "print(avocados_complete.isna().any())\n",
        "> date               False\n",
        "  avg_price          False\n",
        "  total_sold         False\n",
        "  small_sold         False\n",
        "  large_sold         False\n",
        "  xl_sold            False\n",
        "  total_bags_sold    False\n",
        "  small_bags_sold    False\n",
        "  large_bags_sold    False\n",
        "  xl_bags_sold       False\n",
        "  dtype: bool"
      ],
      "metadata": {
        "id": "lUoE97B5xCZQ"
      },
      "execution_count": null,
      "outputs": []
    },
    {
      "cell_type": "markdown",
      "source": [
        "**Replacing missing values**"
      ],
      "metadata": {
        "id": "jsE9fyaQxFjd"
      }
    },
    {
      "cell_type": "code",
      "source": [
        "# From previous step\n",
        "cols_with_missing = [\"small_sold\", \"large_sold\", \"xl_sold\"]\n",
        "avocados_2016[cols_with_missing].hist()\n",
        "plt.show()\n",
        "\n",
        "# Fill in missing values with 0\n",
        "avocados_filled = avocados_2016.fillna(0)\n",
        "\n",
        "# Create histograms of the filled columns\n",
        "avocados_filled[cols_with_missing].hist()\n",
        "\n",
        "# Show the plot\n",
        "plt.show()"
      ],
      "metadata": {
        "id": "MF7O1kCpxIfw"
      },
      "execution_count": null,
      "outputs": []
    },
    {
      "cell_type": "markdown",
      "source": [
        "# Creating DataFrames\n",
        "\n",
        "**List of dictionaries**"
      ],
      "metadata": {
        "id": "hxYYeReYxMKj"
      }
    },
    {
      "cell_type": "code",
      "source": [
        "# Create a list of dictionaries with new data\n",
        "avocados_list = [\n",
        "    {'date': \"2019-11-03\", 'small_sold': 10376832, 'large_sold': 7835071},\n",
        "    {'date': \"2019-11-10\", 'small_sold': 10717154, 'large_sold': 8561348},\n",
        "]\n",
        "\n",
        "# Convert list into DataFrame\n",
        "avocados_2019 = pd.DataFrame(avocados_list)\n",
        "\n",
        "# Print the new DataFrame\n",
        "print(avocados_2019)\n",
        ">          date  small_sold  large_sold\n",
        "  0  2019-11-03    10376832     7835071\n",
        "  1  2019-11-10    10717154     8561348"
      ],
      "metadata": {
        "id": "zBHE84pdxQHU"
      },
      "execution_count": null,
      "outputs": []
    },
    {
      "cell_type": "markdown",
      "source": [
        "**Dictionary of lists**"
      ],
      "metadata": {
        "id": "QtAAhlwDxT-7"
      }
    },
    {
      "cell_type": "code",
      "source": [
        "# Create a dictionary of lists with new data\n",
        "avocados_dict = {\n",
        "  \"date\": [\"2019-11-17\", \"2019-12-01\"],\n",
        "  \"small_sold\": [10859987, 9291631],\n",
        "  \"large_sold\": [7674135, 6238096]\n",
        "}\n",
        "\n",
        "# Convert dictionary into DataFrame\n",
        "avocados_2019 = pd.DataFrame(avocados_dict)\n",
        "\n",
        "# Print the new DataFrame\n",
        "print(avocados_2019)\n",
        ">          date  small_sold  large_sold\n",
        "  0  2019-11-17    10859987     7674135\n",
        "  1  2019-12-01     9291631     6238096"
      ],
      "metadata": {
        "id": "IoaRWe0TxWKY"
      },
      "execution_count": null,
      "outputs": []
    },
    {
      "cell_type": "markdown",
      "source": [
        "# Reading and writing CSVs\n",
        "\n",
        "**CSV to DataFrame**"
      ],
      "metadata": {
        "id": "rFHzd8yCxYRv"
      }
    },
    {
      "cell_type": "code",
      "source": [
        "# Read CSV as DataFrame called airline_bumping\n",
        "airline_bumping = pd.read_csv(\"airline_bumping.csv\")\n",
        "\n",
        "# Take a look at the DataFrame\n",
        "print(airline_bumping.head())\n",
        ">              airline  year  nb_bumped  total_passengers\n",
        "  0    DELTA AIR LINES  2017        679          99796155\n",
        "  1     VIRGIN AMERICA  2017        165           6090029\n",
        "  2    JETBLUE AIRWAYS  2017       1475          27255038\n",
        "  3    UNITED AIRLINES  2017       2067          70030765\n",
        "  4  HAWAIIAN AIRLINES  2017         92           8422734\n",
        "\n",
        "# For each airline, select nb_bumped and total_passengers and sum\n",
        "airline_totals = airline_bumping.groupby(\"airline\")[[\"nb_bumped\", \"total_passengers\"]].sum()\n",
        "\n",
        "# Create new col, bumps_per_10k: no. of bumps per 10k passengers for each airline\n",
        "airline_totals[\"bumps_per_10k\"] = airline_totals[\"nb_bumped\"] / airline_totals[\"total_passengers\"] * 10000\n",
        "\n",
        "# Print airline_totals\n",
        "print(airline_totals)"
      ],
      "metadata": {
        "id": "OXdtWPH5xcX0"
      },
      "execution_count": null,
      "outputs": []
    },
    {
      "cell_type": "markdown",
      "source": [
        "**DataFrame to CSV**"
      ],
      "metadata": {
        "id": "9K-GoIArxfTh"
      }
    },
    {
      "cell_type": "code",
      "source": [
        "# Create airline_totals_sorted\n",
        "airline_totals_sorted = airline_totals.sort_values('bumps_per_10k', ascending=False)\n",
        "\n",
        "# Print airline_totals_sorted\n",
        "print(airline_totals_sorted)\n",
        "\n",
        "# Save as airline_totals_sorted.csv\n",
        "airline_totals_sorted.to_csv(\"airline_totals_sorted.csv\")"
      ],
      "metadata": {
        "id": "V5s1TBX5xhqW"
      },
      "execution_count": null,
      "outputs": []
    }
  ]
}